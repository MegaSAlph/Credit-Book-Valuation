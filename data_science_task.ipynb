{
 "cells": [
  {
   "cell_type": "code",
   "execution_count": 1,
   "metadata": {
    "collapsed": true
   },
   "outputs": [],
   "source": [
    "# Python libraries\n",
    "import pandas as pd\n",
    "from sklearn.tree import DecisionTreeClassifier as DTC\n",
    "import seaborn as sns\n",
    "from sklearn.metrics import log_loss ,confusion_matrix\n",
    "from sklearn.model_selection import GridSearchCV\n",
    "from sklearn.model_selection import ShuffleSplit\n",
    "%matplotlib inline"
   ]
  },
  {
   "cell_type": "code",
   "execution_count": 2,
   "metadata": {
    "collapsed": true
   },
   "outputs": [],
   "source": [
    "#reading the CSV file named data_science_task.csv\n",
    "filename=\"data_science_task.csv\"\n",
    "data=pd.read_csv(filename)"
   ]
  },
  {
   "cell_type": "code",
   "execution_count": 3,
   "metadata": {},
   "outputs": [
    {
     "name": "stdout",
     "output_type": "stream",
     "text": [
      "<class 'pandas.core.frame.DataFrame'>\n",
      "RangeIndex: 11998 entries, 0 to 11997\n",
      "Data columns (total 11 columns):\n",
      "account_no                     11998 non-null object\n",
      "gender                         11998 non-null object\n",
      "age                            11998 non-null int64\n",
      "income                         11998 non-null int64\n",
      "loan_amount                    11998 non-null int64\n",
      "term                           11998 non-null int64\n",
      "installment_amount             11998 non-null int64\n",
      "interest_rate                  11998 non-null float64\n",
      "credit_score_at_application    11998 non-null int64\n",
      "outstanding_balance            11998 non-null int64\n",
      "status                         11998 non-null object\n",
      "dtypes: float64(1), int64(7), object(3)\n",
      "memory usage: 1.0+ MB\n"
     ]
    },
    {
     "data": {
      "text/html": [
       "<div>\n",
       "<style>\n",
       "    .dataframe thead tr:only-child th {\n",
       "        text-align: right;\n",
       "    }\n",
       "\n",
       "    .dataframe thead th {\n",
       "        text-align: left;\n",
       "    }\n",
       "\n",
       "    .dataframe tbody tr th {\n",
       "        vertical-align: top;\n",
       "    }\n",
       "</style>\n",
       "<table border=\"1\" class=\"dataframe\">\n",
       "  <thead>\n",
       "    <tr style=\"text-align: right;\">\n",
       "      <th></th>\n",
       "      <th>age</th>\n",
       "      <th>income</th>\n",
       "      <th>loan_amount</th>\n",
       "      <th>term</th>\n",
       "      <th>installment_amount</th>\n",
       "      <th>interest_rate</th>\n",
       "      <th>credit_score_at_application</th>\n",
       "      <th>outstanding_balance</th>\n",
       "    </tr>\n",
       "  </thead>\n",
       "  <tbody>\n",
       "    <tr>\n",
       "      <th>count</th>\n",
       "      <td>11998.000000</td>\n",
       "      <td>11998.000000</td>\n",
       "      <td>11998.000000</td>\n",
       "      <td>11998.000000</td>\n",
       "      <td>11998.000000</td>\n",
       "      <td>11998.000000</td>\n",
       "      <td>11998.000000</td>\n",
       "      <td>11998.000000</td>\n",
       "    </tr>\n",
       "    <tr>\n",
       "      <th>mean</th>\n",
       "      <td>33.429655</td>\n",
       "      <td>12711.212702</td>\n",
       "      <td>29262.793799</td>\n",
       "      <td>46.776796</td>\n",
       "      <td>906.091099</td>\n",
       "      <td>0.150078</td>\n",
       "      <td>749.478246</td>\n",
       "      <td>2216.135523</td>\n",
       "    </tr>\n",
       "    <tr>\n",
       "      <th>std</th>\n",
       "      <td>9.446930</td>\n",
       "      <td>6054.076749</td>\n",
       "      <td>19022.600570</td>\n",
       "      <td>14.690745</td>\n",
       "      <td>727.649879</td>\n",
       "      <td>0.049614</td>\n",
       "      <td>143.739961</td>\n",
       "      <td>6518.494486</td>\n",
       "    </tr>\n",
       "    <tr>\n",
       "      <th>min</th>\n",
       "      <td>18.000000</td>\n",
       "      <td>1507.000000</td>\n",
       "      <td>2000.000000</td>\n",
       "      <td>12.000000</td>\n",
       "      <td>83.000000</td>\n",
       "      <td>-0.040000</td>\n",
       "      <td>500.000000</td>\n",
       "      <td>0.000000</td>\n",
       "    </tr>\n",
       "    <tr>\n",
       "      <th>25%</th>\n",
       "      <td>26.000000</td>\n",
       "      <td>7981.000000</td>\n",
       "      <td>15000.000000</td>\n",
       "      <td>36.000000</td>\n",
       "      <td>452.000000</td>\n",
       "      <td>0.120000</td>\n",
       "      <td>630.000000</td>\n",
       "      <td>0.000000</td>\n",
       "    </tr>\n",
       "    <tr>\n",
       "      <th>50%</th>\n",
       "      <td>33.000000</td>\n",
       "      <td>11436.000000</td>\n",
       "      <td>24000.000000</td>\n",
       "      <td>48.000000</td>\n",
       "      <td>721.000000</td>\n",
       "      <td>0.150000</td>\n",
       "      <td>750.000000</td>\n",
       "      <td>0.000000</td>\n",
       "    </tr>\n",
       "    <tr>\n",
       "      <th>75%</th>\n",
       "      <td>40.000000</td>\n",
       "      <td>16407.500000</td>\n",
       "      <td>39000.000000</td>\n",
       "      <td>60.000000</td>\n",
       "      <td>1136.000000</td>\n",
       "      <td>0.180000</td>\n",
       "      <td>880.000000</td>\n",
       "      <td>0.000000</td>\n",
       "    </tr>\n",
       "    <tr>\n",
       "      <th>max</th>\n",
       "      <td>65.000000</td>\n",
       "      <td>49698.000000</td>\n",
       "      <td>116000.000000</td>\n",
       "      <td>72.000000</td>\n",
       "      <td>8430.000000</td>\n",
       "      <td>0.350000</td>\n",
       "      <td>1000.000000</td>\n",
       "      <td>99000.000000</td>\n",
       "    </tr>\n",
       "  </tbody>\n",
       "</table>\n",
       "</div>"
      ],
      "text/plain": [
       "                age        income    loan_amount          term  \\\n",
       "count  11998.000000  11998.000000   11998.000000  11998.000000   \n",
       "mean      33.429655  12711.212702   29262.793799     46.776796   \n",
       "std        9.446930   6054.076749   19022.600570     14.690745   \n",
       "min       18.000000   1507.000000    2000.000000     12.000000   \n",
       "25%       26.000000   7981.000000   15000.000000     36.000000   \n",
       "50%       33.000000  11436.000000   24000.000000     48.000000   \n",
       "75%       40.000000  16407.500000   39000.000000     60.000000   \n",
       "max       65.000000  49698.000000  116000.000000     72.000000   \n",
       "\n",
       "       installment_amount  interest_rate  credit_score_at_application  \\\n",
       "count        11998.000000   11998.000000                 11998.000000   \n",
       "mean           906.091099       0.150078                   749.478246   \n",
       "std            727.649879       0.049614                   143.739961   \n",
       "min             83.000000      -0.040000                   500.000000   \n",
       "25%            452.000000       0.120000                   630.000000   \n",
       "50%            721.000000       0.150000                   750.000000   \n",
       "75%           1136.000000       0.180000                   880.000000   \n",
       "max           8430.000000       0.350000                  1000.000000   \n",
       "\n",
       "       outstanding_balance  \n",
       "count         11998.000000  \n",
       "mean           2216.135523  \n",
       "std            6518.494486  \n",
       "min               0.000000  \n",
       "25%               0.000000  \n",
       "50%               0.000000  \n",
       "75%               0.000000  \n",
       "max           99000.000000  "
      ]
     },
     "execution_count": 3,
     "metadata": {},
     "output_type": "execute_result"
    }
   ],
   "source": [
    "#explore data\n",
    "data.info()\n",
    "#the statistics of the data \n",
    "data.describe()"
   ]
  },
  {
   "cell_type": "code",
   "execution_count": 4,
   "metadata": {},
   "outputs": [
    {
     "data": {
      "text/plain": [
       "<matplotlib.axes._subplots.AxesSubplot at 0xda6852a080>"
      ]
     },
     "execution_count": 4,
     "metadata": {},
     "output_type": "execute_result"
    },
    {
     "data": {
      "image/png": "[encoded data removed]",
      "text/plain": [
       "<matplotlib.figure.Figure at 0xda6847d6d8>"
      ]
     },
     "metadata": {},
     "output_type": "display_data"
    }
   ],
   "source": [
    "#visualize data\n",
    "sns.barplot(x=\"status\", y=\"outstanding_balance\",hue=\"gender\", data=data)"
   ]
  },
  {
   "cell_type": "code",
   "execution_count": null,
   "metadata": {
    "collapsed": true
   },
   "outputs": [],
   "source": []
  },
  {
   "cell_type": "code",
   "execution_count": 5,
   "metadata": {
    "collapsed": true
   },
   "outputs": [],
   "source": [
    "#functions to convert characters in numerical values\n",
    "def target_to_num(x):\n",
    "    if x==\"PAID_UP\":\n",
    "        return 0\n",
    "    elif x==\"DEFAULT\":\n",
    "        return 1\n",
    "    else:\n",
    "        return 2\n",
    "\n",
    "def gender_to_num(x):\n",
    "    if x==\"F\":\n",
    "        return 0\n",
    "    else:\n",
    "        return 1\n",
    "\n",
    "#adding to data, numeric columns for gender and status\n",
    "data[\"status_num\"]=list(map(target_to_num,data['status']))\n",
    "data[\"gender_num\"]=list(map(gender_to_num,data['gender']))\n",
    "del data['status'],data['gender']\n",
    "\n",
    "#split data into historical data(training) and current data(testing)\n",
    "test=data[data['status_num']==2]\n",
    "training=data[data['status_num']!=2]\n",
    "\n",
    "#assuming that the account_no has no effect on the status we can delete it\n",
    "del training['account_no'],test['account_no']\n",
    "\n",
    "#delete columns not need for fitting model\n",
    "del training['outstanding_balance'],test['outstanding_balance']\n",
    "\n",
    "#target vectors\n",
    "y_train=training['status_num']\n",
    "y_test=test['status_num']\n",
    "\n",
    "#delete columns not need for fitting model\n",
    "del training['status_num'],test['status_num']"
   ]
  },
  {
   "cell_type": "code",
   "execution_count": 7,
   "metadata": {},
   "outputs": [
    {
     "name": "stdout",
     "output_type": "stream",
     "text": [
      "Fitting 10 folds for each of 18 candidates, totalling 180 fits\n"
     ]
    },
    {
     "name": "stderr",
     "output_type": "stream",
     "text": [
      "[Parallel(n_jobs=-1)]: Done 125 tasks      | elapsed:    8.3s\n",
      "[Parallel(n_jobs=-1)]: Done 180 out of 180 | elapsed:    9.7s finished\n"
     ]
    },
    {
     "name": "stdout",
     "output_type": "stream",
     "text": [
      "log loss on Training Data: 0.0290100600238\n",
      "confusion metrix: [[9278   30]\n",
      " [  77  612]]\n"
     ]
    },
    {
     "data": {
      "text/plain": [
       "<matplotlib.axes._subplots.AxesSubplot at 0xda6991a208>"
      ]
     },
     "execution_count": 7,
     "metadata": {},
     "output_type": "execute_result"
    },
    {
     "data": {
      "image/png": "[encoded data removed]",
      "text/plain": [
       "<matplotlib.figure.Figure at 0xda698f34a8>"
      ]
     },
     "metadata": {},
     "output_type": "display_data"
    }
   ],
   "source": [
    "#model selection and fitting\n",
    "tree=DTC(random_state=0)\n",
    "\n",
    "#cross validation\n",
    "cv = ShuffleSplit(n_splits=10,test_size=0.3, random_state=0)\n",
    "\n",
    "#model variable\n",
    "algorithms={}\n",
    "algorithms['Decision Tree']=tree\n",
    "\n",
    "#function that explore statistics of the data\n",
    "def get_results():\n",
    "    results=grid.cv_results_\n",
    "    min_score=results['mean_test_score'].min()\n",
    "    max_score=results['mean_test_score'].max()\n",
    "    std_score=results['std_test_score'].mean()\n",
    "    return [min_score,max_score,std_score]\n",
    "\n",
    "    #Decision Tree\n",
    "tree.get_params()\n",
    "param_grid=dict(max_features=[None,5,7],max_depth=[3,5,8],presort=[True,False])\n",
    "grid=GridSearchCV(algorithms['Decision Tree'],param_grid=param_grid,\n",
    "                  cv=cv,n_jobs=-1,verbose=1)\n",
    "grid.fit(training,y_train)\n",
    "best_tree=grid.best_estimator_\n",
    "best_param_tree=grid.best_params_\n",
    "best_score_tree=grid.best_score_\n",
    "results=get_results()\n",
    "\n",
    "#predict probability of defaulting\n",
    "tree_pred=pd.DataFrame(best_tree.predict_proba(training))[1]\n",
    "\n",
    "#cheeking how good is the model using log loss function\n",
    "print('log loss on Training Data: %s'%log_loss(y_train,tree_pred))\n",
    "\n",
    "#cheeking how good is the model using confusion matrix\n",
    "ff=best_tree.predict(training)\n",
    "kk=confusion_matrix(y_train,ff)\n",
    "print(\"confusion metrix: %s\"%kk)\n",
    "sns.heatmap(kk)"
   ]
  },
  {
   "cell_type": "code",
   "execution_count": 8,
   "metadata": {},
   "outputs": [
    {
     "name": "stdout",
     "output_type": "stream",
     "text": [
      "Expected Book Value:R23787276.2185\n"
     ]
    },
    {
     "name": "stderr",
     "output_type": "stream",
     "text": [
      "C:\\Users\\Funny\\Anaconda3\\lib\\site-packages\\ipykernel_launcher.py:6: SettingWithCopyWarning: \n",
      "A value is trying to be set on a copy of a slice from a DataFrame.\n",
      "Try using .loc[row_indexer,col_indexer] = value instead\n",
      "\n",
      "See the caveats in the documentation: http://pandas.pydata.org/pandas-docs/stable/indexing.html#indexing-view-versus-copy\n",
      "  \n",
      "C:\\Users\\Funny\\Anaconda3\\lib\\site-packages\\ipykernel_launcher.py:7: SettingWithCopyWarning: \n",
      "A value is trying to be set on a copy of a slice from a DataFrame.\n",
      "Try using .loc[row_indexer,col_indexer] = value instead\n",
      "\n",
      "See the caveats in the documentation: http://pandas.pydata.org/pandas-docs/stable/indexing.html#indexing-view-versus-copy\n",
      "  import sys\n"
     ]
    }
   ],
   "source": [
    "#predict probability of not defaulting test data \n",
    "y_pred_test=pd.DataFrame(best_tree.predict_proba(test))[0]\n",
    "\n",
    "#calculate the Expected Book Value in Rands\n",
    "book_value=data[data['status_num']==2]\n",
    "book_value['1-POD']=list(y_pred_test)\n",
    "book_value['expected repayment']=book_value['1-POD']*book_value['outstanding_balance']\n",
    "print(\"Expected Book Value:R%s\"%sum(book_value['expected repayment']))\n",
    "\n"
   ]
  },
  {
   "cell_type": "code",
   "execution_count": null,
   "metadata": {
    "collapsed": true
   },
   "outputs": [],
   "source": []
  }
 ],
 "metadata": {
  "kernelspec": {
   "display_name": "Python 3",
   "language": "python",
   "name": "python3"
  },
  "language_info": {
   "codemirror_mode": {
    "name": "ipython",
    "version": 3
   },
   "file_extension": ".py",
   "mimetype": "text/x-python",
   "name": "python",
   "nbconvert_exporter": "python",
   "pygments_lexer": "ipython3",
   "version": "3.6.1"
  }
 },
 "nbformat": 4,
 "nbformat_minor": 2
}
